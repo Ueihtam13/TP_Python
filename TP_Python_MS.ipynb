{
 "cells": [
  {
   "cell_type": "markdown",
   "metadata": {},
   "source": [
    "Exercice 1 : Puissance 4\n",
    "==\n"
   ]
  },
  {
   "cell_type": "code",
   "execution_count": 78,
   "metadata": {
    "collapsed": false
   },
   "outputs": [],
   "source": [
    "from tkinter import *\n",
    "\n",
    "WIDTH=600\n",
    "HEIGHT=600\n",
    "\n",
    "my_root=Tk()\n",
    "cnv=Canvas(my_root, width=WIDTH, height=HEIGHT, background='ivory')\n",
    "cnv.pack()\n",
    "\n",
    "\n",
    "cnv.create_rectangle((0, 599), (599, 580), fill='blue')\n",
    "\n",
    "cnv.create_rectangle((50, 599), (550, 20), fill='blue')\n",
    "\n",
    "\n",
    "def dot(cnv, C, R=6, color='red'):\n",
    "    xC, yC=C\n",
    "    A=(xC-R, yC-R)\n",
    "    B=(xC+R, yC+R)\n",
    "    return cnv.create_oval(A,B, fill=color, outline=color)\n",
    "\n",
    "x=90\n",
    "y=60\n",
    "#PAD=40\n",
    "\n",
    "DIM=50\n",
    "WIDTH=DIM+PAD\n",
    "HEIGHT=DIM+PAD\n",
    "\n",
    "C=(50,50)\n",
    "for j in range (0,7):\n",
    "    n=50+(j-1)*110\n",
    "    for i in range (0,8):\n",
    "        \n",
    "        dot(cnv, C, R=DIM//2, color=\"white\")\n",
    "        C=(50+i*110, n)\n",
    "    C=(50,n)\n",
    "    \n",
    "\n",
    "\n",
    "\n",
    "\n",
    "\n",
    "#dot(cnv, C, R=DIM//2, color=\"white\")\n",
    "\n",
    "\n",
    "\n",
    "my_root.mainloop()\n"
   ]
  },
  {
   "cell_type": "markdown",
   "metadata": {},
   "source": [
    "Exercice 2\n",
    "==="
   ]
  },
  {
   "cell_type": "code",
   "execution_count": 83,
   "metadata": {
    "collapsed": false
   },
   "outputs": [],
   "source": [
    "from random import sample\n",
    "from tkinter import Tk, Canvas\n",
    "\n",
    "COLORS=[\"ivory\", \"lime green\", \"red\", \"gray75\"]\n",
    "\n",
    "def random_forest(p, n):\n",
    "    units=[(line,col) for col in range(n) for line in range(n)]\n",
    "    ntrees=int(n**2*p)\n",
    "    trees=sample(units,ntrees)\n",
    "    states=[[0]*n for _ in range(n)]\n",
    "    for (i,j) in trees:\n",
    "        states[i][j]=1\n",
    "    return states\n",
    "\n",
    "def fill_cell(states, line, col):\n",
    "    A=(unit*col, unit*line)\n",
    "    B=(unit*(col+1), unit*(line+1))\n",
    "    state=states[line][col]\n",
    "    color=COLORS[state]\n",
    "    cnv.create_rectangle(A, B, fill=color, outline='')\n",
    "\n",
    "def fill(states):\n",
    "    n=len(states)\n",
    "    for line in range(n):\n",
    "        for col in range(n):\n",
    "            fill_cell(states, line, col)\n",
    "\n",
    "p=0.60\n",
    "n=50\n",
    "unit=10\n",
    "\n",
    "# Fenêtre et canevas\n",
    "root = Tk()\n",
    "cnv = Canvas(root, width=unit*n, height=unit*n, background=\"ivory\")\n",
    "cnv.pack()\n",
    "\n",
    "# Forêt aléatoire\n",
    "states=random_forest(p, n)\n",
    "\n",
    "# Plateau dessiné\n",
    "fill(states)\n",
    "\n",
    "root.mainloop()"
   ]
  },
  {
   "cell_type": "code",
   "execution_count": null,
   "metadata": {
    "collapsed": true
   },
   "outputs": [],
   "source": []
  },
  {
   "cell_type": "code",
   "execution_count": null,
   "metadata": {
    "collapsed": true
   },
   "outputs": [],
   "source": []
  }
 ],
 "metadata": {
  "kernelspec": {
   "display_name": "Python 3",
   "language": "python",
   "name": "python3"
  },
  "language_info": {
   "codemirror_mode": {
    "name": "ipython",
    "version": 3
   },
   "file_extension": ".py",
   "mimetype": "text/x-python",
   "name": "python",
   "nbconvert_exporter": "python",
   "pygments_lexer": "ipython3",
   "version": "3.5.3"
  }
 },
 "nbformat": 4,
 "nbformat_minor": 2
}
